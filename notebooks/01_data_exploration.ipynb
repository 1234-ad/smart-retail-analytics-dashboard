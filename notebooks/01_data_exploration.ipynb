{
 "cells": [
  {
   "cell_type": "markdown",
   "metadata": {},
   "source": [
    "# Retail Data Exploration & Profiling\n",
    "\n",
    "This notebook performs initial data exploration and profiling of the retail dataset to understand data quality, distributions, and key patterns."
   ]
  },
  {
   "cell_type": "code",
   "execution_count": null,
   "metadata": {},
   "outputs": [],
   "source": [
    "import pandas as pd\n",
    "import numpy as np\n",
    "import matplotlib.pyplot as plt\n",
    "import seaborn as sns\n",
    "import plotly.express as px\n",
    "import plotly.graph_objects as go\n",
    "from datetime import datetime, timedelta\n",
    "import warnings\n",
    "warnings.filterwarnings('ignore')\n",
    "\n",
    "# Set plotting style\n",
    "plt.style.use('seaborn-v0_8')\n",
    "sns.set_palette('husl')"
   ]
  },
  {
   "cell_type": "markdown",
   "metadata": {},
   "source": [
    "## 1. Data Loading & Initial Assessment"
   ]
  },
  {
   "cell_type": "code",
   "execution_count": null,
   "metadata": {},
   "outputs": [],
   "source": [
    "# Load sample retail data (replace with actual data source)\n",
    "# For demo purposes, creating synthetic data structure\n",
    "\n",
    "# Generate sample data\n",
    "np.random.seed(42)\n",
    "n_records = 10000\n",
    "\n",
    "# Create sample retail dataset\n",
    "data = {\n",
    "    'transaction_id': range(1, n_records + 1),\n",
    "    'date': pd.date_range('2022-01-01', periods=n_records, freq='H'),\n",
    "    'customer_id': np.random.randint(1, 2000, n_records),\n",
    "    'product_category': np.random.choice(['Electronics', 'Clothing', 'Home', 'Sports', 'Books'], n_records),\n",
    "    'product_name': [f'Product_{i}' for i in np.random.randint(1, 500, n_records)],\n",
    "    'quantity': np.random.randint(1, 10, n_records),\n",
    "    'unit_price': np.random.uniform(10, 500, n_records),\n",
    "    'discount_percent': np.random.uniform(0, 30, n_records),\n",
    "    'sales_channel': np.random.choice(['Online', 'In-Store', 'Mobile'], n_records),\n",
    "    'region': np.random.choice(['North', 'South', 'East', 'West'], n_records)\n",
    "}\n",
    "\n",
    "df = pd.DataFrame(data)\n",
    "df['total_amount'] = df['quantity'] * df['unit_price'] * (1 - df['discount_percent']/100)\n",
    "\n",
    "print(f\"Dataset shape: {df.shape}\")\n",
    "print(f\"Date range: {df['date'].min()} to {df['date'].max()}\")\n",
    "df.head()"
   ]
  },
  {
   "cell_type": "markdown",
   "metadata": {},
   "source": [
    "## 2. Data Quality Assessment"
   ]
  },
  {
   "cell_type": "code",
   "execution_count": null,
   "metadata": {},
   "outputs": [],
   "source": [
    "# Data quality checks\n",
    "print(\"=== DATA QUALITY REPORT ===\")\n",
    "print(f\"Total records: {len(df):,}\")\n",
    "print(f\"Duplicate records: {df.duplicated().sum():,}\")\n",
    "print(f\"Missing values per column:\")\n",
    "print(df.isnull().sum())\n",
    "print(f\"\\nData types:\")\n",
    "print(df.dtypes)"
   ]
  },
  {
   "cell_type": "markdown",
   "metadata": {},
   "source": [
    "## 3. Descriptive Statistics"
   ]
  },
  {
   "cell_type": "code",
   "execution_count": null,
   "metadata": {},
   "outputs": [],
   "source": [
    "# Numerical columns summary\n",
    "numerical_cols = ['quantity', 'unit_price', 'discount_percent', 'total_amount']\n",
    "print(\"=== NUMERICAL VARIABLES SUMMARY ===\")\n",
    "df[numerical_cols].describe()"
   ]
  },
  {
   "cell_type": "markdown",
   "metadata": {},
   "source": [
    "## 4. Key Business Metrics"
   ]
  },
  {
   "cell_type": "code",
   "execution_count": null,
   "metadata": {},
   "outputs": [],
   "source": [
    "# Calculate key business metrics\n",
    "total_revenue = df['total_amount'].sum()\n",
    "avg_order_value = df['total_amount'].mean()\n",
    "unique_customers = df['customer_id'].nunique()\n",
    "unique_products = df['product_name'].nunique()\n",
    "avg_discount = df['discount_percent'].mean()\n",
    "\n",
    "print(\"=== KEY BUSINESS METRICS ===\")\n",
    "print(f\"Total Revenue: ${total_revenue:,.2f}\")\n",
    "print(f\"Average Order Value: ${avg_order_value:.2f}\")\n",
    "print(f\"Unique Customers: {unique_customers:,}\")\n",
    "print(f\"Unique Products: {unique_products:,}\")\n",
    "print(f\"Average Discount: {avg_discount:.1f}%\")\n",
    "print(f\"Total Transactions: {len(df):,}\")"
   ]
  },
  {
   "cell_type": "markdown",
   "metadata": {},
   "source": [
    "## 5. Data Visualization"
   ]
  },
  {
   "cell_type": "code",
   "execution_count": null,
   "metadata": {},
   "outputs": [],
   "source": [
    "# Revenue by category\n",
    "fig, axes = plt.subplots(2, 2, figsize=(15, 12))\n",
    "\n",
    "# Revenue by category\n",
    "category_revenue = df.groupby('product_category')['total_amount'].sum().sort_values(ascending=False)\n",
    "axes[0,0].bar(category_revenue.index, category_revenue.values)\n",
    "axes[0,0].set_title('Revenue by Product Category')\n",
    "axes[0,0].set_ylabel('Revenue ($)')\n",
    "axes[0,0].tick_params(axis='x', rotation=45)\n",
    "\n",
    "# Sales channel distribution\n",
    "channel_counts = df['sales_channel'].value_counts()\n",
    "axes[0,1].pie(channel_counts.values, labels=channel_counts.index, autopct='%1.1f%%')\n",
    "axes[0,1].set_title('Sales Channel Distribution')\n",
    "\n",
    "# Order value distribution\n",
    "axes[1,0].hist(df['total_amount'], bins=50, alpha=0.7)\n",
    "axes[1,0].set_title('Order Value Distribution')\n",
    "axes[1,0].set_xlabel('Order Value ($)')\n",
    "axes[1,0].set_ylabel('Frequency')\n",
    "\n",
    "# Regional performance\n",
    "region_revenue = df.groupby('region')['total_amount'].sum()\n",
    "axes[1,1].bar(region_revenue.index, region_revenue.values)\n",
    "axes[1,1].set_title('Revenue by Region')\n",
    "axes[1,1].set_ylabel('Revenue ($)')\n",
    "\n",
    "plt.tight_layout()\n",
    "plt.show()"
   ]
  },
  {
   "cell_type": "markdown",
   "metadata": {},
   "source": [
    "## 6. Time Series Analysis"
   ]
  },
  {
   "cell_type": "code",
   "execution_count": null,
   "metadata": {},
   "outputs": [],
   "source": [
    "# Daily revenue trend\n",
    "df['date_only'] = df['date'].dt.date\n",
    "daily_revenue = df.groupby('date_only')['total_amount'].sum().reset_index()\n",
    "\n",
    "plt.figure(figsize=(15, 6))\n",
    "plt.plot(daily_revenue['date_only'], daily_revenue['total_amount'])\n",
    "plt.title('Daily Revenue Trend')\n",
    "plt.xlabel('Date')\n",
    "plt.ylabel('Revenue ($)')\n",
    "plt.xticks(rotation=45)\n",
    "plt.grid(True, alpha=0.3)\n",
    "plt.show()"
   ]
  },
  {
   "cell_type": "markdown",
   "metadata": {},
   "source": [
    "## 7. Customer Analysis"
   ]
  },
  {
   "cell_type": "code",
   "execution_count": null,
   "metadata": {},
   "outputs": [],
   "source": [
    "# Customer purchase behavior\n",
    "customer_metrics = df.groupby('customer_id').agg({\n",
    "    'total_amount': ['sum', 'mean', 'count'],\n",
    "    'date': ['min', 'max']\n",
    "}).round(2)\n",
    "\n",
    "customer_metrics.columns = ['total_spent', 'avg_order_value', 'order_count', 'first_purchase', 'last_purchase']\n",
    "customer_metrics['customer_lifetime_days'] = (customer_metrics['last_purchase'] - customer_metrics['first_purchase']).dt.days\n",
    "\n",
    "print(\"=== CUSTOMER BEHAVIOR SUMMARY ===\")\n",
    "print(customer_metrics.describe())"
   ]
  },
  {
   "cell_type": "markdown",
   "metadata": {},
   "source": [
    "## 8. Next Steps\n",
    "\n",
    "Based on this initial exploration, the next analysis steps include:\n",
    "\n",
    "1. **Customer Segmentation** - RFM analysis and clustering\n",
    "2. **Sales Forecasting** - Time series modeling\n",
    "3. **Product Analysis** - Performance and profitability\n",
    "4. **Market Basket Analysis** - Association rules\n",
    "5. **Dashboard Creation** - Interactive visualizations\n",
    "\n",
    "Each of these will be covered in separate notebooks."
   ]
  }
 ],
 "metadata": {
  "kernelspec": {
   "display_name": "Python 3",
   "language": "python",
   "name": "python3"
  },
  "language_info": {
   "codemirror_mode": {
    "name": "ipython",
    "version": 3
   },
   "file_extension": ".py",
   "mimetype": "text/x-python",
   "name": "python",
   "nbconvert_exporter": "python",
   "pygments_lexer": "ipython3",
   "version": "3.8.5"
  }
 },
 "nbformat": 4,
 "nbformat_minor": 4
}